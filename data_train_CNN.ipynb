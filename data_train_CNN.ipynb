{
  "nbformat": 4,
  "nbformat_minor": 0,
  "metadata": {
    "colab": {
      "provenance": [],
      "authorship_tag": "ABX9TyOSphQ334arGtuV94+hR3ju",
      "include_colab_link": true
    },
    "kernelspec": {
      "name": "python3",
      "display_name": "Python 3"
    },
    "language_info": {
      "name": "python"
    }
  },
  "cells": [
    {
      "cell_type": "markdown",
      "metadata": {
        "id": "view-in-github",
        "colab_type": "text"
      },
      "source": [
        "<a href=\"https://colab.research.google.com/github/Yoan-GitHub/Kobotik-Cuisine/blob/main/data_train_CNN.ipynb\" target=\"_parent\"><img src=\"https://colab.research.google.com/assets/colab-badge.svg\" alt=\"Open In Colab\"/></a>"
      ]
    },
    {
      "cell_type": "code",
      "source": [
        "import os\n",
        "\n",
        "# Définissez le chemin vers le dossier contenant les images à renommer\n",
        "path = \"/content/sample_data/data\"\n",
        "x = 0\n",
        "# Parcourez tous les fichiers dans le dossier\n",
        "for filename in os.listdir(path):\n",
        "    x = x + 1\n",
        "    # Ignorez les dossiers et les fichiers qui ne sont pas des images\n",
        "    if not filename.endswith(\".jpg\") and not filename.endswith(\".jpeg\") and not filename.endswith(\".png\"):\n",
        "        continue\n",
        "    # Vérifiez si le nom de l'image commence par \"laitue_laitue\"\n",
        "    if filename.startswith(\"laitue_salade_Color\"):\n",
        "        new_filename = \"laitue_\" + filename.replace(\"laitue_salade_Color\",\"\",1)\n",
        "    elif filename.startswith(\"laitue\"):\n",
        "        new_filename = \"salade_\" + filename.replace(\"laitue\",\"\",1)\n",
        "    # Construisez les chemins complets vers le fichier actuel et le nouveau fichier\n",
        "    old_path = os.path.join(path, filename)\n",
        "    new_path = os.path.join(path, new_filename)\n",
        "    # Renommez le fichier\n",
        "    os.rename(old_path, new_path)\n",
        "\n",
        "print(x)"
      ],
      "metadata": {
        "id": "Jh8VEpELEUUn",
        "colab": {
          "base_uri": "https://localhost:8080/"
        },
        "outputId": "b02e136b-77d0-467f-b524-65035125e12a"
      },
      "execution_count": 6,
      "outputs": [
        {
          "output_type": "stream",
          "name": "stdout",
          "text": [
            "100\n"
          ]
        }
      ]
    },
    {
      "cell_type": "code",
      "execution_count": 40,
      "metadata": {
        "id": "w4TJ6tbOvdDn",
        "colab": {
          "base_uri": "https://localhost:8080/"
        },
        "outputId": "0fe4bd07-6a22-45ca-daf1-8217fa1427e1"
      },
      "outputs": [
        {
          "output_type": "stream",
          "name": "stdout",
          "text": [
            "(100, 64, 64, 3)\n",
            "(100,)\n",
            "(80, 64, 64, 3)\n",
            "(20, 64, 64, 3)\n",
            "(80,)\n",
            "(20,)\n",
            "(80, 64, 64, 3)\n",
            "(80, 1)\n"
          ]
        }
      ],
      "source": [
        "import os\n",
        "import numpy as np\n",
        "from sklearn.model_selection import train_test_split\n",
        "from keras.preprocessing.image import ImageDataGenerator\n",
        "from keras.models import Sequential\n",
        "from keras.layers import Conv2D, MaxPooling2D, Flatten, Dense\n",
        "from keras.utils import np_utils\n",
        "from sklearn.preprocessing import LabelEncoder\n",
        "import cv2\n",
        "\n",
        "# Chemin vers le dossier d'images\n",
        "image_folder = '/content/sample_data/data'  # ce dossier contient des images de laitue ( label : laitue), de laitue+pates ( label : salade )\n",
        "\n",
        "# Génération des jeux de données d'entraînement et de test\n",
        "data = []\n",
        "labels = []\n",
        "for image_path in os.listdir(image_folder):\n",
        "    image = cv2.resize(cv2.imread(os.path.join(image_folder, image_path)), (64, 64))\n",
        "    label = image_path.split(\"_\")[0]  # On suppose que les noms des images contiennent les labels séparés par \"_\"\n",
        "    data.append(image)\n",
        "    labels.append(label)\n",
        "\n",
        "data = np.array(data) # X : données\n",
        "data = data/255\n",
        "\n",
        "print(data.shape)\n",
        "labels = np.array(labels) # y : étiquettes\n",
        "print(labels.shape)\n",
        "data_train, data_test, labels_train, labels_test = train_test_split(data, labels, test_size=0.2)\n",
        "print(data_train.shape)\n",
        "print(data_test.shape)\n",
        "print(labels_train.shape)\n",
        "print(labels_test.shape)\n",
        "\n",
        "# Initialisation du modèle CNN\n",
        "model = Sequential()\n",
        "model.add(Conv2D(32, (3, 3), input_shape=data_train.shape[1:], activation='relu'))\n",
        "model.add(MaxPooling2D(pool_size=(2, 2)))\n",
        "model.add(Flatten())\n",
        "model.add(Dense(units=128, activation='relu'))\n",
        "model.add(Dense(units=2, activation='softmax'))\n",
        "# one hot encode labels\n",
        "le = LabelEncoder()\n",
        "\n",
        "# Compilation du modèle\n",
        "model.compile(optimizer='adam', loss='sparse_categorical_crossentropy', metrics=['accuracy'])\n",
        "\n",
        "labels_train= np_utils.to_categorical(le.fit_transform(labels_train))\n",
        "labels_test = np_utils.to_categorical(le.transform(labels_test))\n",
        "\n",
        "\n",
        "print(data_train.shape)\n",
        "print(labels_train.shape)"
      ]
    },
    {
      "cell_type": "code",
      "source": [
        "#entrainement du modèle\n",
        "model.fit(data_train, labels_train, epochs=50, batch_size=32)"
      ],
      "metadata": {
        "id": "bM5K9OqlyNok",
        "outputId": "9896e0df-681c-4749-e9cd-e5312cd6ce8e",
        "colab": {
          "base_uri": "https://localhost:8080/"
        }
      },
      "execution_count": 41,
      "outputs": [
        {
          "output_type": "stream",
          "name": "stdout",
          "text": [
            "Epoch 1/50\n",
            "3/3 [==============================] - 1s 92ms/step - loss: 0.2028 - accuracy: 1.0000\n",
            "Epoch 2/50\n",
            "3/3 [==============================] - 0s 95ms/step - loss: 0.0000e+00 - accuracy: 1.0000\n",
            "Epoch 3/50\n",
            "3/3 [==============================] - 0s 89ms/step - loss: 0.0000e+00 - accuracy: 1.0000\n",
            "Epoch 4/50\n",
            "3/3 [==============================] - 0s 87ms/step - loss: 0.0000e+00 - accuracy: 1.0000\n",
            "Epoch 5/50\n",
            "3/3 [==============================] - 0s 102ms/step - loss: 0.0000e+00 - accuracy: 1.0000\n",
            "Epoch 6/50\n",
            "3/3 [==============================] - 0s 135ms/step - loss: 0.0000e+00 - accuracy: 1.0000\n",
            "Epoch 7/50\n",
            "3/3 [==============================] - 0s 140ms/step - loss: 0.0000e+00 - accuracy: 1.0000\n",
            "Epoch 8/50\n",
            "3/3 [==============================] - 0s 144ms/step - loss: 0.0000e+00 - accuracy: 1.0000\n",
            "Epoch 9/50\n",
            "3/3 [==============================] - 0s 153ms/step - loss: 0.0000e+00 - accuracy: 1.0000\n",
            "Epoch 10/50\n",
            "3/3 [==============================] - 0s 153ms/step - loss: 0.0000e+00 - accuracy: 1.0000\n",
            "Epoch 11/50\n",
            "3/3 [==============================] - 0s 153ms/step - loss: 0.0000e+00 - accuracy: 1.0000\n",
            "Epoch 12/50\n",
            "3/3 [==============================] - 0s 148ms/step - loss: 0.0000e+00 - accuracy: 1.0000\n",
            "Epoch 13/50\n",
            "3/3 [==============================] - 0s 85ms/step - loss: 0.0000e+00 - accuracy: 1.0000\n",
            "Epoch 14/50\n",
            "3/3 [==============================] - 0s 86ms/step - loss: 0.0000e+00 - accuracy: 1.0000\n",
            "Epoch 15/50\n",
            "3/3 [==============================] - 0s 93ms/step - loss: 0.0000e+00 - accuracy: 1.0000\n",
            "Epoch 16/50\n",
            "3/3 [==============================] - 0s 94ms/step - loss: 0.0000e+00 - accuracy: 1.0000\n",
            "Epoch 17/50\n",
            "3/3 [==============================] - 0s 87ms/step - loss: 0.0000e+00 - accuracy: 1.0000\n",
            "Epoch 18/50\n",
            "3/3 [==============================] - 0s 84ms/step - loss: 0.0000e+00 - accuracy: 1.0000\n",
            "Epoch 19/50\n",
            "3/3 [==============================] - 0s 89ms/step - loss: 0.0000e+00 - accuracy: 1.0000\n",
            "Epoch 20/50\n",
            "3/3 [==============================] - 0s 90ms/step - loss: 0.0000e+00 - accuracy: 1.0000\n",
            "Epoch 21/50\n",
            "3/3 [==============================] - 0s 86ms/step - loss: 0.0000e+00 - accuracy: 1.0000\n",
            "Epoch 22/50\n",
            "3/3 [==============================] - 0s 88ms/step - loss: 0.0000e+00 - accuracy: 1.0000\n",
            "Epoch 23/50\n",
            "3/3 [==============================] - 0s 97ms/step - loss: 0.0000e+00 - accuracy: 1.0000\n",
            "Epoch 24/50\n",
            "3/3 [==============================] - 0s 94ms/step - loss: 0.0000e+00 - accuracy: 1.0000\n",
            "Epoch 25/50\n",
            "3/3 [==============================] - 0s 94ms/step - loss: 0.0000e+00 - accuracy: 1.0000\n",
            "Epoch 26/50\n",
            "3/3 [==============================] - 0s 91ms/step - loss: 0.0000e+00 - accuracy: 1.0000\n",
            "Epoch 27/50\n",
            "3/3 [==============================] - 0s 91ms/step - loss: 0.0000e+00 - accuracy: 1.0000\n",
            "Epoch 28/50\n",
            "3/3 [==============================] - 0s 83ms/step - loss: 0.0000e+00 - accuracy: 1.0000\n",
            "Epoch 29/50\n",
            "3/3 [==============================] - 0s 85ms/step - loss: 0.0000e+00 - accuracy: 1.0000\n",
            "Epoch 30/50\n",
            "3/3 [==============================] - 0s 96ms/step - loss: 0.0000e+00 - accuracy: 1.0000\n",
            "Epoch 31/50\n",
            "3/3 [==============================] - 0s 90ms/step - loss: 0.0000e+00 - accuracy: 1.0000\n",
            "Epoch 32/50\n",
            "3/3 [==============================] - 0s 85ms/step - loss: 0.0000e+00 - accuracy: 1.0000\n",
            "Epoch 33/50\n",
            "3/3 [==============================] - 0s 85ms/step - loss: 0.0000e+00 - accuracy: 1.0000\n",
            "Epoch 34/50\n",
            "3/3 [==============================] - 0s 86ms/step - loss: 0.0000e+00 - accuracy: 1.0000\n",
            "Epoch 35/50\n",
            "3/3 [==============================] - 0s 84ms/step - loss: 0.0000e+00 - accuracy: 1.0000\n",
            "Epoch 36/50\n",
            "3/3 [==============================] - 0s 90ms/step - loss: 0.0000e+00 - accuracy: 1.0000\n",
            "Epoch 37/50\n",
            "3/3 [==============================] - 0s 95ms/step - loss: 0.0000e+00 - accuracy: 1.0000\n",
            "Epoch 38/50\n",
            "3/3 [==============================] - 0s 88ms/step - loss: 0.0000e+00 - accuracy: 1.0000\n",
            "Epoch 39/50\n",
            "3/3 [==============================] - 0s 88ms/step - loss: 0.0000e+00 - accuracy: 1.0000\n",
            "Epoch 40/50\n",
            "3/3 [==============================] - 0s 88ms/step - loss: 0.0000e+00 - accuracy: 1.0000\n",
            "Epoch 41/50\n",
            "3/3 [==============================] - 0s 86ms/step - loss: 0.0000e+00 - accuracy: 1.0000\n",
            "Epoch 42/50\n",
            "3/3 [==============================] - 0s 83ms/step - loss: 0.0000e+00 - accuracy: 1.0000\n",
            "Epoch 43/50\n",
            "3/3 [==============================] - 0s 86ms/step - loss: 0.0000e+00 - accuracy: 1.0000\n",
            "Epoch 44/50\n",
            "3/3 [==============================] - 0s 98ms/step - loss: 0.0000e+00 - accuracy: 1.0000\n",
            "Epoch 45/50\n",
            "3/3 [==============================] - 0s 84ms/step - loss: 0.0000e+00 - accuracy: 1.0000\n",
            "Epoch 46/50\n",
            "3/3 [==============================] - 0s 84ms/step - loss: 0.0000e+00 - accuracy: 1.0000\n",
            "Epoch 47/50\n",
            "3/3 [==============================] - 0s 85ms/step - loss: 0.0000e+00 - accuracy: 1.0000\n",
            "Epoch 48/50\n",
            "3/3 [==============================] - 0s 92ms/step - loss: 0.0000e+00 - accuracy: 1.0000\n",
            "Epoch 49/50\n",
            "3/3 [==============================] - 0s 85ms/step - loss: 0.0000e+00 - accuracy: 1.0000\n",
            "Epoch 50/50\n",
            "3/3 [==============================] - 0s 83ms/step - loss: 0.0000e+00 - accuracy: 1.0000\n"
          ]
        },
        {
          "output_type": "execute_result",
          "data": {
            "text/plain": [
              "<keras.callbacks.History at 0x7f185fe116d0>"
            ]
          },
          "metadata": {},
          "execution_count": 41
        }
      ]
    },
    {
      "cell_type": "code",
      "source": [
        "# évaluation du modèle\n",
        "scores = model.evaluate(data_test, labels_test, verbose=1)\n",
        "print(\"Accuracy:\", scores[1])"
      ],
      "metadata": {
        "id": "jDzbNp6rz-6d",
        "outputId": "94faacc6-5122-4f1c-cc65-78151a809b46",
        "colab": {
          "base_uri": "https://localhost:8080/"
        }
      },
      "execution_count": 42,
      "outputs": [
        {
          "output_type": "stream",
          "name": "stdout",
          "text": [
            "1/1 [==============================] - 0s 179ms/step - loss: 0.0000e+00 - accuracy: 1.0000\n",
            "Accuracy: 1.0\n"
          ]
        }
      ]
    },
    {
      "cell_type": "code",
      "source": [
        "# sauvegarde du modèle\n",
        "model.save('model.h5')"
      ],
      "metadata": {
        "id": "sT_gdwod0DfO"
      },
      "execution_count": 43,
      "outputs": []
    },
    {
      "cell_type": "code",
      "source": [
        "# chargement du modèle sauvegardé\n",
        "import keras\n",
        "loaded_model = keras.models.load_model('model.h5')"
      ],
      "metadata": {
        "id": "--D99Hbb0GQe"
      },
      "execution_count": 45,
      "outputs": []
    },
    {
      "cell_type": "code",
      "source": [
        "# prédictions sur les données de test\n",
        "predictions = loaded_model.predict(data_test)\n",
        "print(np.argmax(predictions[0]))"
      ],
      "metadata": {
        "id": "ScI7rKdk0MLv",
        "outputId": "98ae82e5-4e25-4366-ef97-c99561357c1a",
        "colab": {
          "base_uri": "https://localhost:8080/"
        }
      },
      "execution_count": 46,
      "outputs": [
        {
          "output_type": "stream",
          "name": "stdout",
          "text": [
            "1/1 [==============================] - 0s 108ms/step\n",
            "1\n"
          ]
        }
      ]
    },
    {
      "cell_type": "code",
      "source": [
        "# pour afficher la catégorie prédite\n",
        "print(le.inverse_transform(np.argmax(predictions[0])))"
      ],
      "metadata": {
        "id": "HCzLEf_W0O14",
        "outputId": "a6a50eba-ba98-4290-bd82-5985950a22a2",
        "colab": {
          "base_uri": "https://localhost:8080/",
          "height": 328
        }
      },
      "execution_count": 48,
      "outputs": [
        {
          "output_type": "error",
          "ename": "NotFittedError",
          "evalue": "ignored",
          "traceback": [
            "\u001b[0;31m---------------------------------------------------------------------------\u001b[0m",
            "\u001b[0;31mNotFittedError\u001b[0m                            Traceback (most recent call last)",
            "\u001b[0;32m<ipython-input-48-db5a39c77e5f>\u001b[0m in \u001b[0;36m<module>\u001b[0;34m\u001b[0m\n\u001b[1;32m      1\u001b[0m \u001b[0mle\u001b[0m \u001b[0;34m=\u001b[0m \u001b[0mLabelEncoder\u001b[0m\u001b[0;34m(\u001b[0m\u001b[0;34m)\u001b[0m\u001b[0;34m\u001b[0m\u001b[0;34m\u001b[0m\u001b[0m\n\u001b[0;32m----> 2\u001b[0;31m \u001b[0mprint\u001b[0m\u001b[0;34m(\u001b[0m\u001b[0mle\u001b[0m\u001b[0;34m.\u001b[0m\u001b[0minverse_transform\u001b[0m\u001b[0;34m(\u001b[0m\u001b[0mnp\u001b[0m\u001b[0;34m.\u001b[0m\u001b[0margmax\u001b[0m\u001b[0;34m(\u001b[0m\u001b[0mpredictions\u001b[0m\u001b[0;34m[\u001b[0m\u001b[0;36m0\u001b[0m\u001b[0;34m]\u001b[0m\u001b[0;34m)\u001b[0m\u001b[0;34m)\u001b[0m\u001b[0;34m)\u001b[0m\u001b[0;34m\u001b[0m\u001b[0;34m\u001b[0m\u001b[0m\n\u001b[0m",
            "\u001b[0;32m/usr/local/lib/python3.8/dist-packages/sklearn/preprocessing/_label.py\u001b[0m in \u001b[0;36minverse_transform\u001b[0;34m(self, y)\u001b[0m\n\u001b[1;32m    151\u001b[0m             \u001b[0mOriginal\u001b[0m \u001b[0mencoding\u001b[0m\u001b[0;34m.\u001b[0m\u001b[0;34m\u001b[0m\u001b[0;34m\u001b[0m\u001b[0m\n\u001b[1;32m    152\u001b[0m         \"\"\"\n\u001b[0;32m--> 153\u001b[0;31m         \u001b[0mcheck_is_fitted\u001b[0m\u001b[0;34m(\u001b[0m\u001b[0mself\u001b[0m\u001b[0;34m)\u001b[0m\u001b[0;34m\u001b[0m\u001b[0;34m\u001b[0m\u001b[0m\n\u001b[0m\u001b[1;32m    154\u001b[0m         \u001b[0my\u001b[0m \u001b[0;34m=\u001b[0m \u001b[0mcolumn_or_1d\u001b[0m\u001b[0;34m(\u001b[0m\u001b[0my\u001b[0m\u001b[0;34m,\u001b[0m \u001b[0mwarn\u001b[0m\u001b[0;34m=\u001b[0m\u001b[0;32mTrue\u001b[0m\u001b[0;34m)\u001b[0m\u001b[0;34m\u001b[0m\u001b[0;34m\u001b[0m\u001b[0m\n\u001b[1;32m    155\u001b[0m         \u001b[0;31m# inverse transform of empty array is empty array\u001b[0m\u001b[0;34m\u001b[0m\u001b[0;34m\u001b[0m\u001b[0;34m\u001b[0m\u001b[0m\n",
            "\u001b[0;32m/usr/local/lib/python3.8/dist-packages/sklearn/utils/validation.py\u001b[0m in \u001b[0;36mcheck_is_fitted\u001b[0;34m(estimator, attributes, msg, all_or_any)\u001b[0m\n\u001b[1;32m   1220\u001b[0m \u001b[0;34m\u001b[0m\u001b[0m\n\u001b[1;32m   1221\u001b[0m     \u001b[0;32mif\u001b[0m \u001b[0;32mnot\u001b[0m \u001b[0mfitted\u001b[0m\u001b[0;34m:\u001b[0m\u001b[0;34m\u001b[0m\u001b[0;34m\u001b[0m\u001b[0m\n\u001b[0;32m-> 1222\u001b[0;31m         \u001b[0;32mraise\u001b[0m \u001b[0mNotFittedError\u001b[0m\u001b[0;34m(\u001b[0m\u001b[0mmsg\u001b[0m \u001b[0;34m%\u001b[0m \u001b[0;34m{\u001b[0m\u001b[0;34m\"name\"\u001b[0m\u001b[0;34m:\u001b[0m \u001b[0mtype\u001b[0m\u001b[0;34m(\u001b[0m\u001b[0mestimator\u001b[0m\u001b[0;34m)\u001b[0m\u001b[0;34m.\u001b[0m\u001b[0m__name__\u001b[0m\u001b[0;34m}\u001b[0m\u001b[0;34m)\u001b[0m\u001b[0;34m\u001b[0m\u001b[0;34m\u001b[0m\u001b[0m\n\u001b[0m\u001b[1;32m   1223\u001b[0m \u001b[0;34m\u001b[0m\u001b[0m\n\u001b[1;32m   1224\u001b[0m \u001b[0;34m\u001b[0m\u001b[0m\n",
            "\u001b[0;31mNotFittedError\u001b[0m: This LabelEncoder instance is not fitted yet. Call 'fit' with appropriate arguments before using this estimator."
          ]
        }
      ]
    },
    {
      "cell_type": "code",
      "source": [
        "# one hot encode label\n",
        "le = LabelEncoder()\n",
        "labels_train = le.fit_transform(labels_train)\n",
        "labels_test = le.transform(labels_test)\n",
        "labels_train = np_utils.to_categorical(labels_train)\n",
        "labels_test = np_utils.to_categorical(labels_test)"
      ],
      "metadata": {
        "id": "i2fATJQX0Z96"
      },
      "execution_count": null,
      "outputs": []
    },
    {
      "cell_type": "code",
      "source": [
        "# entrainement du modèle \n",
        "history = model.fit(data_train, labels_train, epochs=10, validation_data=(data_test, labels_test))"
      ],
      "metadata": {
        "id": "GS9mQIum1BaG"
      },
      "execution_count": null,
      "outputs": []
    },
    {
      "cell_type": "code",
      "source": [
        "# évaluation du modèle sur les données de test\n",
        "scores = model.evaluate(data_test, labels_test, verbose=0)\n",
        "print(\"Accuracy: %.2f%%\" % (scores[1]*100))"
      ],
      "metadata": {
        "id": "nmPi6lbQ1BmM"
      },
      "execution_count": null,
      "outputs": []
    },
    {
      "cell_type": "code",
      "source": [
        "# sauvegarde du modèle\n",
        "model.save('/content/sample_data/model.h5')"
      ],
      "metadata": {
        "id": "O0PB2mvo1BxU"
      },
      "execution_count": null,
      "outputs": []
    },
    {
      "cell_type": "code",
      "source": [
        "# récupération des données d'entrainement pour visualisation\n",
        "acc = history.history['accuracy']\n",
        "val_acc = history.history['val_accuracy']\n",
        "loss = history.history['loss']\n",
        "val_loss = history.history['val_loss']"
      ],
      "metadata": {
        "id": "rgaQjghH1B5F"
      },
      "execution_count": null,
      "outputs": []
    },
    {
      "cell_type": "code",
      "source": [
        "# plot de l'accuracy\n",
        "import matplotlib.pyplot as plt\n",
        "epochs = range(len(acc))\n",
        "plt.plot(epochs, acc, 'bo', label='Training acc')\n",
        "plt.plot(epochs, val_acc, 'b', label='Validation acc')\n",
        "plt.title('Training and validation accuracy')\n",
        "plt.legend()\n",
        "plt.figure()"
      ],
      "metadata": {
        "id": "fY2C5TMT1V54"
      },
      "execution_count": null,
      "outputs": []
    },
    {
      "cell_type": "code",
      "source": [
        "# plot de la loss\n",
        "plt.plot(epochs, loss, 'bo', label='Training loss')\n",
        "plt.plot(epochs, val_loss, 'b', label='Validation loss')\n",
        "plt.title('Training and validation loss')\n",
        "plt.legend()\n",
        "plt.show()"
      ],
      "metadata": {
        "id": "mNrvcIob1V8X"
      },
      "execution_count": null,
      "outputs": []
    }
  ]
}