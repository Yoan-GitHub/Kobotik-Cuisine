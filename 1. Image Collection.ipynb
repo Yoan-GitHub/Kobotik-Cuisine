{
 "cells": [
  {
   "cell_type": "markdown",
   "metadata": {},
   "source": [
    "# 1. Installation des dépendences et importation"
   ]
  },
  {
   "cell_type": "code",
   "execution_count": 1,
   "metadata": {},
   "outputs": [
    {
     "name": "stdout",
     "output_type": "stream",
     "text": [
      "Requirement already satisfied: opencv-python in ./tfod/lib/python3.8/site-packages (4.7.0.68)\r\n",
      "Requirement already satisfied: numpy>=1.17.3 in ./tfod/lib/python3.8/site-packages (from opencv-python) (1.22.4)\r\n"
     ]
    }
   ],
   "source": [
    "!pip install opencv-python"
   ]
  },
  {
   "cell_type": "code",
   "execution_count": 2,
   "metadata": {},
   "outputs": [],
   "source": [
    "# Import opencv\n",
    "import cv2 \n",
    "\n",
    "# Import uuid\n",
    "import uuid\n",
    "\n",
    "# Import Operating System\n",
    "import os\n",
    "\n",
    "# Import time\n",
    "import time"
   ]
  },
  {
   "cell_type": "markdown",
   "metadata": {},
   "source": [
    "# 2. Definition des images à collecter"
   ]
  },
  {
   "cell_type": "code",
   "execution_count": 3,
   "metadata": {},
   "outputs": [],
   "source": [
    "labels = ['laitue', 'pates'] # liste variable selon les ingrédients à disposition de l'utilisateur\n",
    "number_imgs = 100 # variable selon le nombre d'images que l'utilisateur veur collecter"
   ]
  },
  {
   "cell_type": "markdown",
   "metadata": {},
   "source": [
    "# 3. Configuration des dossiers"
   ]
  },
  {
   "cell_type": "code",
   "execution_count": 4,
   "metadata": {},
   "outputs": [],
   "source": [
    "IMAGES_PATH = os.path.join('Tensorflow', 'workspace', 'images', 'collectedimages')"
   ]
  },
  {
   "cell_type": "code",
   "execution_count": 5,
   "metadata": {},
   "outputs": [],
   "source": [
    "if not os.path.exists(IMAGES_PATH):\n",
    "    if os.name == 'posix':\n",
    "        !mkdir -p {IMAGES_PATH}\n",
    "    if os.name == 'nt':\n",
    "         !mkdir {IMAGES_PATH}\n",
    "for label in labels:\n",
    "    path = os.path.join(IMAGES_PATH, label)\n",
    "    if not os.path.exists(path):\n",
    "        !mkdir {path}"
   ]
  },
  {
   "cell_type": "markdown",
   "metadata": {},
   "source": [
    "# 4. Capture des images avec la caméra Intel RealSense à notre disposition "
   ]
  },
  {
   "cell_type": "code",
   "execution_count": 6,
   "metadata": {},
   "outputs": [],
   "source": [
    "#Pour collecter les images avec votre caméra,\n",
    "#dé-commenter le code suivant \n",
    "\n",
    "#for label in labels:\n",
    "#    cap = cv2.VideoCapture(0) # le 0 est à modifier selon la caméra et l'OS que vous utilisez\n",
    "#    print('Collecting images for {}'.format(label))\n",
    "#    time.sleep(5)\n",
    "#    for imgnum in range(number_imgs):\n",
    "#        print('Collecting image {}'.format(imgnum))\n",
    "#        ret, frame = cap.read()\n",
    "#        imgname = os.path.join(IMAGES_PATH,label,label+'.'+'{}.jpg'.format(str(uuid.uuid1())))\n",
    "#        cv2.imwrite(imgname, frame)\n",
    "#        cv2.imshow('frame', frame)\n",
    "#        time.sleep(2)\n",
    "\n",
    "#        if cv2.waitKey(1) & 0xFF == ord('q'):\n",
    "#            break\n",
    "#cap.release()\n",
    "#cv2.destroyAllWindows()"
   ]
  },
  {
   "cell_type": "markdown",
   "metadata": {},
   "source": [
    "# 5. Étiquettage (labelisation) des images collectées"
   ]
  },
  {
   "cell_type": "code",
   "execution_count": 7,
   "metadata": {},
   "outputs": [
    {
     "name": "stdout",
     "output_type": "stream",
     "text": [
      "Requirement already satisfied: pyqt5 in ./tfod/lib/python3.8/site-packages (5.15.9)\n",
      "Requirement already satisfied: lxml in ./tfod/lib/python3.8/site-packages (4.9.2)\n",
      "Requirement already satisfied: PyQt5-sip<13,>=12.11 in ./tfod/lib/python3.8/site-packages (from pyqt5) (12.11.1)\n",
      "Requirement already satisfied: PyQt5-Qt5>=5.15.2 in ./tfod/lib/python3.8/site-packages (from pyqt5) (5.15.2)\n"
     ]
    }
   ],
   "source": [
    "#installation des dépendences et configuration des fichiers\n",
    "!pip install --upgrade pyqt5 lxml"
   ]
  },
  {
   "cell_type": "code",
   "execution_count": 8,
   "metadata": {},
   "outputs": [
    {
     "name": "stdout",
     "output_type": "stream",
     "text": [
      "Package                       Version\r\n",
      "----------------------------- -----------\r\n",
      "absl-py                       1.4.0\r\n",
      "anyio                         3.6.2\r\n",
      "apache-beam                   2.44.0\r\n",
      "argon2-cffi                   21.3.0\r\n",
      "argon2-cffi-bindings          21.2.0\r\n",
      "arrow                         1.2.3\r\n",
      "asttokens                     2.2.1\r\n",
      "astunparse                    1.6.3\r\n",
      "attrs                         22.2.0\r\n",
      "avro-python3                  1.10.2\r\n",
      "backcall                      0.2.0\r\n",
      "beautifulsoup4                4.11.2\r\n",
      "bleach                        6.0.0\r\n",
      "cachetools                    5.3.0\r\n",
      "certifi                       2022.12.7\r\n",
      "cffi                          1.15.1\r\n",
      "charset-normalizer            3.0.1\r\n",
      "click                         8.1.3\r\n",
      "cloudpickle                   2.2.1\r\n",
      "colorama                      0.4.6\r\n",
      "comm                          0.1.2\r\n",
      "contextlib2                   21.6.0\r\n",
      "contourpy                     1.0.7\r\n",
      "crcmod                        1.7\r\n",
      "cycler                        0.11.0\r\n",
      "Cython                        0.29.33\r\n",
      "debugpy                       1.6.6\r\n",
      "decorator                     5.1.1\r\n",
      "defusedxml                    0.7.1\r\n",
      "dill                          0.3.1.1\r\n",
      "dm-tree                       0.1.8\r\n",
      "docopt                        0.6.2\r\n",
      "etils                         1.0.0\r\n",
      "executing                     1.2.0\r\n",
      "fastavro                      1.7.1\r\n",
      "fasteners                     0.18\r\n",
      "fastjsonschema                2.16.2\r\n",
      "flatbuffers                   23.1.21\r\n",
      "fonttools                     4.38.0\r\n",
      "fqdn                          1.5.1\r\n",
      "gast                          0.3.3\r\n",
      "gin-config                    0.5.0\r\n",
      "google-api-core               2.11.0\r\n",
      "google-api-python-client      2.76.0\r\n",
      "google-auth                   2.16.0\r\n",
      "google-auth-httplib2          0.1.0\r\n",
      "google-auth-oauthlib          0.4.6\r\n",
      "google-pasta                  0.2.0\r\n",
      "googleapis-common-protos      1.58.0\r\n",
      "grpcio                        1.51.1\r\n",
      "h5py                          2.10.0\r\n",
      "hdfs                          2.7.0\r\n",
      "httplib2                      0.20.4\r\n",
      "idna                          3.4\r\n",
      "immutabledict                 2.2.3\r\n",
      "importlib-metadata            6.0.0\r\n",
      "importlib-resources           5.10.2\r\n",
      "ipykernel                     6.21.1\r\n",
      "ipython                       8.9.0\r\n",
      "ipython-genutils              0.2.0\r\n",
      "isoduration                   20.11.0\r\n",
      "jedi                          0.18.2\r\n",
      "Jinja2                        3.1.2\r\n",
      "joblib                        1.2.0\r\n",
      "jsonpointer                   2.3\r\n",
      "jsonschema                    4.17.3\r\n",
      "jupyter_client                8.0.2\r\n",
      "jupyter_core                  5.2.0\r\n",
      "jupyter-events                0.6.3\r\n",
      "jupyter_server                2.2.1\r\n",
      "jupyter_server_terminals      0.4.4\r\n",
      "jupyterlab-pygments           0.2.2\r\n",
      "kaggle                        1.5.12\r\n",
      "keras                         2.11.0\r\n",
      "Keras-Preprocessing           1.1.2\r\n",
      "kiwisolver                    1.4.4\r\n",
      "libclang                      15.0.6.1\r\n",
      "lvis                          0.5.3\r\n",
      "lxml                          4.9.2\r\n",
      "Markdown                      3.4.1\r\n",
      "MarkupSafe                    2.1.2\r\n",
      "matplotlib                    3.2.0\r\n",
      "matplotlib-inline             0.1.6\r\n",
      "mistune                       2.0.4\r\n",
      "nbclassic                     0.5.1\r\n",
      "nbclient                      0.7.2\r\n",
      "nbconvert                     7.2.9\r\n",
      "nbformat                      5.7.3\r\n",
      "nest-asyncio                  1.5.6\r\n",
      "notebook                      6.5.2\r\n",
      "notebook_shim                 0.2.2\r\n",
      "numpy                         1.22.4\r\n",
      "oauth2client                  4.1.3\r\n",
      "oauthlib                      3.2.2\r\n",
      "object-detection              0.1\r\n",
      "objsize                       0.6.1\r\n",
      "opencv-python                 4.7.0.68\r\n",
      "opencv-python-headless        4.7.0.68\r\n",
      "opt-einsum                    3.3.0\r\n",
      "orjson                        3.8.5\r\n",
      "packaging                     23.0\r\n",
      "pandas                        1.5.3\r\n",
      "pandocfilters                 1.5.0\r\n",
      "parso                         0.8.3\r\n",
      "pexpect                       4.8.0\r\n",
      "pickleshare                   0.7.5\r\n",
      "Pillow                        9.4.0\r\n",
      "pip                           23.0\r\n",
      "pkg_resources                 0.0.0\r\n",
      "pkgutil_resolve_name          1.3.10\r\n",
      "platformdirs                  2.6.2\r\n",
      "portalocker                   2.7.0\r\n",
      "prometheus-client             0.16.0\r\n",
      "promise                       2.3\r\n",
      "prompt-toolkit                3.0.36\r\n",
      "proto-plus                    1.22.2\r\n",
      "protobuf                      3.19.6\r\n",
      "psutil                        5.9.4\r\n",
      "ptyprocess                    0.7.0\r\n",
      "pure-eval                     0.2.2\r\n",
      "py-cpuinfo                    9.0.0\r\n",
      "pyarrow                       9.0.0\r\n",
      "pyasn1                        0.4.8\r\n",
      "pyasn1-modules                0.2.8\r\n",
      "pycocotools                   2.0.6\r\n",
      "pycparser                     2.21\r\n",
      "pydot                         1.4.2\r\n",
      "Pygments                      2.14.0\r\n",
      "pymongo                       3.13.0\r\n",
      "pyparsing                     2.4.7\r\n",
      "PyQt5                         5.15.9\r\n",
      "PyQt5-Qt5                     5.15.2\r\n",
      "PyQt5-sip                     12.11.1\r\n",
      "pyrsistent                    0.19.3\r\n",
      "python-dateutil               2.8.2\r\n",
      "python-json-logger            2.0.4\r\n",
      "python-slugify                8.0.0\r\n",
      "pytz                          2022.7.1\r\n",
      "PyYAML                        5.4.1\r\n",
      "pyzmq                         25.0.0\r\n",
      "regex                         2022.10.31\r\n",
      "requests                      2.28.2\r\n",
      "requests-oauthlib             1.3.1\r\n",
      "rfc3339-validator             0.1.4\r\n",
      "rfc3986-validator             0.1.1\r\n",
      "rsa                           4.9\r\n",
      "sacrebleu                     2.2.0\r\n",
      "scikit-learn                  1.2.1\r\n",
      "scipy                         1.10.0\r\n",
      "Send2Trash                    1.8.0\r\n",
      "sentencepiece                 0.1.97\r\n",
      "seqeval                       1.2.2\r\n",
      "setuptools                    44.0.0\r\n",
      "six                           1.15.0\r\n",
      "sniffio                       1.3.0\r\n",
      "soupsieve                     2.3.2.post1\r\n",
      "stack-data                    0.6.2\r\n",
      "tabulate                      0.9.0\r\n",
      "tensorboard                   2.11.2\r\n",
      "tensorboard-data-server       0.6.1\r\n",
      "tensorboard-plugin-wit        1.8.1\r\n",
      "tensorflow                    2.11.0\r\n",
      "tensorflow-addons             0.19.0\r\n",
      "tensorflow-datasets           4.8.2\r\n",
      "tensorflow-estimator          2.11.0\r\n",
      "tensorflow-hub                0.12.0\r\n",
      "tensorflow-io                 0.30.0\r\n",
      "tensorflow-io-gcs-filesystem  0.30.0\r\n",
      "tensorflow-metadata           1.12.0\r\n",
      "tensorflow-model-optimization 0.7.3\r\n",
      "tensorflow-text               2.11.0\r\n",
      "termcolor                     1.1.0\r\n",
      "terminado                     0.17.1\r\n",
      "text-unidecode                1.3\r\n",
      "tf-models-official            2.11.3\r\n",
      "tf-slim                       1.1.0\r\n",
      "threadpoolctl                 3.1.0\r\n",
      "tinycss2                      1.2.1\r\n",
      "toml                          0.10.2\r\n",
      "tornado                       6.2\r\n",
      "tqdm                          4.64.1\r\n",
      "traitlets                     5.9.0\r\n",
      "typeguard                     2.13.3\r\n",
      "typing-extensions             3.7.4.3\r\n",
      "uri-template                  1.2.0\r\n",
      "uritemplate                   4.1.1\r\n",
      "urllib3                       1.26.14\r\n",
      "wcwidth                       0.2.6\r\n",
      "webcolors                     1.12\r\n",
      "webencodings                  0.5.1\r\n",
      "websocket-client              1.5.1\r\n",
      "Werkzeug                      2.2.2\r\n",
      "wheel                         0.38.4\r\n",
      "wrapt                         1.12.1\r\n",
      "zipp                          3.12.0\r\n",
      "zstandard                     0.19.0\r\n"
     ]
    }
   ],
   "source": [
    "!pip list"
   ]
  },
  {
   "cell_type": "code",
   "execution_count": 9,
   "metadata": {},
   "outputs": [],
   "source": [
    "LABELIMG_PATH = os.path.join('Tensorflow', 'labelimg')"
   ]
  },
  {
   "cell_type": "code",
   "execution_count": 10,
   "metadata": {},
   "outputs": [],
   "source": [
    "#Installation du logiciel pour labeliser vos images\n",
    "if not os.path.exists(LABELIMG_PATH):\n",
    "    !mkdir {LABELIMG_PATH}\n",
    "    !git clone https://github.com/tzutalin/labelImg {LABELIMG_PATH}"
   ]
  },
  {
   "cell_type": "code",
   "execution_count": 11,
   "metadata": {},
   "outputs": [
    {
     "name": "stdout",
     "output_type": "stream",
     "text": [
      "pyrcc5 -o libs/resources.py resources.qrc\r\n"
     ]
    }
   ],
   "source": [
    "if os.name == 'posix':\n",
    "    !cd {LABELIMG_PATH} && make qt5py3\n",
    "if os.name =='nt':\n",
    "    !cd {LABELIMG_PATH} && pyrcc5 -o libs/resources.py resources.qrc"
   ]
  },
  {
   "cell_type": "code",
   "execution_count": 12,
   "metadata": {
    "scrolled": true
   },
   "outputs": [],
   "source": [
    "!cd {LABELIMG_PATH} "
   ]
  },
  {
   "cell_type": "code",
   "execution_count": 13,
   "metadata": {},
   "outputs": [
    {
     "data": {
      "text/plain": [
       "'Tensorflow/labelimg'"
      ]
     },
     "execution_count": 13,
     "metadata": {},
     "output_type": "execute_result"
    }
   ],
   "source": [
    "LABELIMG_PATH"
   ]
  },
  {
   "cell_type": "code",
   "execution_count": 14,
   "metadata": {},
   "outputs": [],
   "source": [
    "#!python3 labelImg.py ou bien exécuter dans votre terminal python3 labelImg.py"
   ]
  },
  {
   "cell_type": "markdown",
   "metadata": {},
   "source": [
    "# 6. Les répartir à votre guise dans deux dossiers TRAIN et TEST "
   ]
  },
  {
   "cell_type": "markdown",
   "metadata": {},
   "source": [
    "# | OPTIONNEL | 7. Compression des dossiers pour un entrainement sur Colab"
   ]
  },
  {
   "cell_type": "code",
   "execution_count": 15,
   "metadata": {},
   "outputs": [],
   "source": [
    "#TRAIN_PATH = os.path.join('Tensorflow', 'workspace', 'images', 'train')\n",
    "#TEST_PATH = os.path.join('Tensorflow', 'workspace', 'images', 'test')\n",
    "#ARCHIVE_PATH = os.path.join('Tensorflow', 'workspace', 'images', 'archive.tar.gz')"
   ]
  },
  {
   "cell_type": "code",
   "execution_count": 16,
   "metadata": {},
   "outputs": [],
   "source": [
    "#!tar -czf {ARCHIVE_PATH} {TRAIN_PATH} {TEST_PATH}"
   ]
  }
 ],
 "metadata": {
  "kernelspec": {
   "display_name": "tfod",
   "language": "python",
   "name": "tfod"
  },
  "language_info": {
   "codemirror_mode": {
    "name": "ipython",
    "version": 3
   },
   "file_extension": ".py",
   "mimetype": "text/x-python",
   "name": "python",
   "nbconvert_exporter": "python",
   "pygments_lexer": "ipython3",
   "version": "3.8.10"
  }
 },
 "nbformat": 4,
 "nbformat_minor": 2
}
